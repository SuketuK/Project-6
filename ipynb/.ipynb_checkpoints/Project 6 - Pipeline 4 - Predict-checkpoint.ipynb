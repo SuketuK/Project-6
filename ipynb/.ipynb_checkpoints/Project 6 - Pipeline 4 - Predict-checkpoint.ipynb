{
 "cells": [
  {
   "cell_type": "markdown",
   "metadata": {},
   "source": [
    "# Project 6 - Pipleline 4 - Predict"
   ]
  },
  {
   "cell_type": "code",
   "execution_count": 51,
   "metadata": {
    "collapsed": true
   },
   "outputs": [],
   "source": [
    "import pandas as pd\n",
    "from os import chdir; chdir('../lib')\n",
    "\n",
    "from sklearn.preprocessing import StandardScaler\n",
    "import encoding_module as enc\n",
    "import database_module as db       \n",
    "import wiki_module as wiki "
   ]
  },
  {
   "cell_type": "markdown",
   "metadata": {},
   "source": [
    "## Mine: Query Wikipedia by page id for content"
   ]
  },
  {
   "cell_type": "code",
   "execution_count": 31,
   "metadata": {
    "collapsed": false
   },
   "outputs": [],
   "source": [
    "page_response = wiki.query_page(str('7509291')) #Depth chart"
   ]
  },
  {
   "cell_type": "code",
   "execution_count": 52,
   "metadata": {
    "collapsed": false
   },
   "outputs": [
    {
     "data": {
      "text/plain": [
       "u'In sports, a depth chart is used to show the placements of the starting players and the secondary players. Generally a starting player will be listed first or on top while a back-up will be listed below. Depth charts also tend to resemble the actual position locations of certain players. The typical Major League Baseball depth chart consists of a list of players at each position, with the starter or first-string player listed first, followed by replacement and platoon players. For fantasy baseball, typical preseason projection systems such as PECOTA construct depth charts that specify not just the order of the players at each position (starter, replacement or bench player) but also the amount of playing time each person at that position will have. For example, at first base one player may be projected as playing 60 percent of the innings, and another 40 percent for the coming season, while at catcher one player may be projected as playing 80 percent of the innings, and another 20 percent. For pitchers, the depth charts project the number of innings each roster player will pitch. The line system in ice hockey follows the same structure as a depth chart. Outside of sports The term depth chart is now also being used from the perspective of management theory, to address the process of key positioning leaders within the organization, considering a dynamic life cycle perspective which includes developmental tasks such as those cited in books and articles related to the leadership pipeline subject. A depth chart analysis for key positioning leaders should affect the development of leadership training programs and high performance development initiatives in modern corporations and enterprises. References'"
      ]
     },
     "execution_count": 52,
     "metadata": {},
     "output_type": "execute_result"
    }
   ],
   "source": [
    "page_response[\"text\"]"
   ]
  },
  {
   "cell_type": "markdown",
   "metadata": {},
   "source": [
    "## Parse: Encode page as document vector"
   ]
  },
  {
   "cell_type": "code",
   "execution_count": 53,
   "metadata": {
    "collapsed": false
   },
   "outputs": [],
   "source": [
    "from sklearn.externals import joblib\n",
    "transformer = joblib.load('../data/vectorizer.pkl')"
   ]
  },
  {
   "cell_type": "code",
   "execution_count": 54,
   "metadata": {
    "collapsed": false
   },
   "outputs": [
    {
     "data": {
      "text/plain": [
       "Pipeline(steps=[('tfidf', TfidfVectorizer(analyzer=u'word', binary=False, decode_error=u'strict',\n",
       "        dtype=<type 'numpy.int64'>, encoding=u'utf-8', input=u'content',\n",
       "        lowercase=True, max_df=1.0, max_features=None, min_df=1,\n",
       "        ngram_range=(1, 1), norm=u'l2', preprocessor=None, smooth_idf=Tru...TruncatedSVD(algorithm='randomized', n_components=500, n_iter=10,\n",
       "       random_state=42, tol=0.0))])"
      ]
     },
     "execution_count": 54,
     "metadata": {},
     "output_type": "execute_result"
    }
   ],
   "source": [
    "transformer"
   ]
  },
  {
   "cell_type": "code",
   "execution_count": 55,
   "metadata": {
    "collapsed": false
   },
   "outputs": [],
   "source": [
    "search_vector_doc = enc.get_searchterm_vector(transformer, page_response[\"text\"])"
   ]
  },
  {
   "cell_type": "code",
   "execution_count": 58,
   "metadata": {
    "collapsed": false
   },
   "outputs": [
    {
     "data": {
      "text/plain": [
       "array([ 0.08283265,  0.10180993,  0.00833631, -0.14341235, -0.08119117,\n",
       "        0.01505812, -0.00918974, -0.01755578, -0.00097451,  0.03420582,\n",
       "        0.016862  ,  0.01977553,  0.02640352,  0.003259  , -0.0140419 ])"
      ]
     },
     "execution_count": 58,
     "metadata": {},
     "output_type": "execute_result"
    }
   ],
   "source": [
    "search_vector_doc.values()[0][0][0:15]"
   ]
  },
  {
   "cell_type": "markdown",
   "metadata": {},
   "source": [
    "## Present: Load previoly trained and pickled model"
   ]
  },
  {
   "cell_type": "code",
   "execution_count": 59,
   "metadata": {
    "collapsed": true
   },
   "outputs": [],
   "source": [
    "from sklearn.naive_bayes import GaussianNB\n",
    "this_naive_calssifier = GaussianNB()\n",
    "this_naive_calssifier = joblib.load('project6_pickled_model.pkl')"
   ]
  },
  {
   "cell_type": "code",
   "execution_count": 60,
   "metadata": {
    "collapsed": false
   },
   "outputs": [
    {
     "data": {
      "text/plain": [
       "GaussianNB(priors=None)"
      ]
     },
     "execution_count": 60,
     "metadata": {},
     "output_type": "execute_result"
    }
   ],
   "source": [
    "this_naive_calssifier"
   ]
  },
  {
   "cell_type": "markdown",
   "metadata": {},
   "source": [
    "## Model: Predict category and display category and prediction confidence"
   ]
  },
  {
   "cell_type": "code",
   "execution_count": 61,
   "metadata": {
    "collapsed": false
   },
   "outputs": [],
   "source": [
    "predicted = this_naive_calssifier.predict(search_vector_doc.values()[0])"
   ]
  },
  {
   "cell_type": "code",
   "execution_count": 62,
   "metadata": {
    "collapsed": false
   },
   "outputs": [
    {
     "data": {
      "text/plain": [
       "array([2835113], dtype=int64)"
      ]
     },
     "execution_count": 62,
     "metadata": {},
     "output_type": "execute_result"
    }
   ],
   "source": [
    "predicted"
   ]
  },
  {
   "cell_type": "code",
   "execution_count": 63,
   "metadata": {
    "collapsed": true
   },
   "outputs": [],
   "source": [
    "SQLstr = \"\"\"\n",
    "\n",
    "select category_id, category_name from category where category_id = 2835113\n",
    "\"\"\"\n",
    "category = db.select_statement(SQLstr, location=\"remote\")"
   ]
  },
  {
   "cell_type": "code",
   "execution_count": 64,
   "metadata": {
    "collapsed": false,
    "scrolled": false
   },
   "outputs": [
    {
     "data": {
      "text/html": [
       "<div>\n",
       "<table border=\"1\" class=\"dataframe\">\n",
       "  <thead>\n",
       "    <tr style=\"text-align: right;\">\n",
       "      <th></th>\n",
       "      <th>category_id</th>\n",
       "      <th>category_name</th>\n",
       "    </tr>\n",
       "  </thead>\n",
       "  <tbody>\n",
       "    <tr>\n",
       "      <th>0</th>\n",
       "      <td>2835113</td>\n",
       "      <td>shoes</td>\n",
       "    </tr>\n",
       "  </tbody>\n",
       "</table>\n",
       "</div>"
      ],
      "text/plain": [
       "   category_id category_name\n",
       "0      2835113         shoes"
      ]
     },
     "execution_count": 64,
     "metadata": {},
     "output_type": "execute_result"
    }
   ],
   "source": [
    "category"
   ]
  },
  {
   "cell_type": "code",
   "execution_count": 65,
   "metadata": {
    "collapsed": false
   },
   "outputs": [],
   "source": [
    "probs = this_naive_calssifier.predict_proba(search_vector_doc.values()[0])"
   ]
  },
  {
   "cell_type": "code",
   "execution_count": 66,
   "metadata": {
    "collapsed": false
   },
   "outputs": [
    {
     "data": {
      "text/plain": [
       "array([[  4.51758837e-13,   0.00000000e+00,   6.68274166e-07,\n",
       "          1.76265723e-14,   2.20147913e-22,   8.13693997e-22,\n",
       "          5.25410521e-23,   2.10090916e-12,   1.93025247e-19,\n",
       "          2.02722781e-19,   4.31389630e-13,   9.99999332e-01,\n",
       "          3.72462151e-31,   1.75826469e-18,   1.00688030e-11,\n",
       "          7.02898758e-11,   1.77494847e-22]])"
      ]
     },
     "execution_count": 66,
     "metadata": {},
     "output_type": "execute_result"
    }
   ],
   "source": [
    "probs"
   ]
  },
  {
   "cell_type": "code",
   "execution_count": null,
   "metadata": {
    "collapsed": true
   },
   "outputs": [],
   "source": []
  }
 ],
 "metadata": {
  "anaconda-cloud": {},
  "kernelspec": {
   "display_name": "Python [conda root]",
   "language": "python",
   "name": "conda-root-py"
  },
  "language_info": {
   "codemirror_mode": {
    "name": "ipython",
    "version": 2
   },
   "file_extension": ".py",
   "mimetype": "text/x-python",
   "name": "python",
   "nbconvert_exporter": "python",
   "pygments_lexer": "ipython2",
   "version": "2.7.12"
  }
 },
 "nbformat": 4,
 "nbformat_minor": 1
}
