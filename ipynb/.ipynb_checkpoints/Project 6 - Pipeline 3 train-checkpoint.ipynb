{
 "cells": [
  {
   "cell_type": "markdown",
   "metadata": {},
   "source": [
    "# Project 6 - Pipleline 3 - Train"
   ]
  },
  {
   "cell_type": "markdown",
   "metadata": {},
   "source": [
    "**Import libraries**"
   ]
  },
  {
   "cell_type": "code",
   "execution_count": 1,
   "metadata": {
    "collapsed": false
   },
   "outputs": [],
   "source": [
    "from os import chdir; chdir('../lib')\n",
    "import encoding_module as enc\n",
    "import database_module as db       \n",
    "import wiki_module as wiki \n",
    "import pandas as pd"
   ]
  },
  {
   "cell_type": "markdown",
   "metadata": {},
   "source": [
    "## Mine: Select document vectors for all pages from database \n",
    "\n",
    "This sill turn in to X (feature set)"
   ]
  },
  {
   "cell_type": "code",
   "execution_count": 48,
   "metadata": {
    "collapsed": false
   },
   "outputs": [
    {
     "data": {
      "text/html": [
       "<div>\n",
       "<table border=\"1\" class=\"dataframe\">\n",
       "  <thead>\n",
       "    <tr style=\"text-align: right;\">\n",
       "      <th></th>\n",
       "      <th>0</th>\n",
       "      <th>1</th>\n",
       "      <th>2</th>\n",
       "      <th>3</th>\n",
       "      <th>4</th>\n",
       "      <th>5</th>\n",
       "      <th>6</th>\n",
       "      <th>7</th>\n",
       "      <th>8</th>\n",
       "      <th>9</th>\n",
       "      <th>...</th>\n",
       "      <th>490</th>\n",
       "      <th>491</th>\n",
       "      <th>492</th>\n",
       "      <th>493</th>\n",
       "      <th>494</th>\n",
       "      <th>495</th>\n",
       "      <th>496</th>\n",
       "      <th>497</th>\n",
       "      <th>498</th>\n",
       "      <th>499</th>\n",
       "    </tr>\n",
       "  </thead>\n",
       "  <tbody>\n",
       "    <tr>\n",
       "      <th>17645570</th>\n",
       "      <td>0.039274</td>\n",
       "      <td>0.055023</td>\n",
       "      <td>-0.014005</td>\n",
       "      <td>-0.016520</td>\n",
       "      <td>0.022691</td>\n",
       "      <td>-0.018724</td>\n",
       "      <td>0.002756</td>\n",
       "      <td>0.005556</td>\n",
       "      <td>-0.005737</td>\n",
       "      <td>-0.009030</td>\n",
       "      <td>...</td>\n",
       "      <td>-0.010056</td>\n",
       "      <td>-0.014171</td>\n",
       "      <td>-0.013905</td>\n",
       "      <td>0.003224</td>\n",
       "      <td>0.005246</td>\n",
       "      <td>0.004800</td>\n",
       "      <td>0.032152</td>\n",
       "      <td>0.011491</td>\n",
       "      <td>0.022782</td>\n",
       "      <td>0.003275</td>\n",
       "    </tr>\n",
       "    <tr>\n",
       "      <th>37019651</th>\n",
       "      <td>0.101253</td>\n",
       "      <td>0.161288</td>\n",
       "      <td>-0.224323</td>\n",
       "      <td>0.112926</td>\n",
       "      <td>-0.060645</td>\n",
       "      <td>0.066798</td>\n",
       "      <td>0.023622</td>\n",
       "      <td>0.008715</td>\n",
       "      <td>-0.017338</td>\n",
       "      <td>0.008191</td>\n",
       "      <td>...</td>\n",
       "      <td>-0.001198</td>\n",
       "      <td>-0.016804</td>\n",
       "      <td>-0.015773</td>\n",
       "      <td>-0.009290</td>\n",
       "      <td>-0.000526</td>\n",
       "      <td>0.004315</td>\n",
       "      <td>-0.003473</td>\n",
       "      <td>0.003300</td>\n",
       "      <td>-0.009625</td>\n",
       "      <td>-0.005633</td>\n",
       "    </tr>\n",
       "    <tr>\n",
       "      <th>9109512</th>\n",
       "      <td>0.039232</td>\n",
       "      <td>0.039217</td>\n",
       "      <td>0.008973</td>\n",
       "      <td>-0.047728</td>\n",
       "      <td>-0.015612</td>\n",
       "      <td>0.017161</td>\n",
       "      <td>0.000355</td>\n",
       "      <td>-0.002134</td>\n",
       "      <td>-0.002816</td>\n",
       "      <td>-0.015128</td>\n",
       "      <td>...</td>\n",
       "      <td>0.031067</td>\n",
       "      <td>0.011480</td>\n",
       "      <td>-0.021530</td>\n",
       "      <td>-0.004341</td>\n",
       "      <td>0.004190</td>\n",
       "      <td>0.044702</td>\n",
       "      <td>0.011483</td>\n",
       "      <td>-0.013307</td>\n",
       "      <td>-0.031249</td>\n",
       "      <td>-0.063539</td>\n",
       "    </tr>\n",
       "  </tbody>\n",
       "</table>\n",
       "<p>3 rows × 500 columns</p>\n",
       "</div>"
      ],
      "text/plain": [
       "               0         1         2         3         4         5    \\\n",
       "17645570  0.039274  0.055023 -0.014005 -0.016520  0.022691 -0.018724   \n",
       "37019651  0.101253  0.161288 -0.224323  0.112926 -0.060645  0.066798   \n",
       "9109512   0.039232  0.039217  0.008973 -0.047728 -0.015612  0.017161   \n",
       "\n",
       "               6         7         8         9      ...          490  \\\n",
       "17645570  0.002756  0.005556 -0.005737 -0.009030    ...    -0.010056   \n",
       "37019651  0.023622  0.008715 -0.017338  0.008191    ...    -0.001198   \n",
       "9109512   0.000355 -0.002134 -0.002816 -0.015128    ...     0.031067   \n",
       "\n",
       "               491       492       493       494       495       496  \\\n",
       "17645570 -0.014171 -0.013905  0.003224  0.005246  0.004800  0.032152   \n",
       "37019651 -0.016804 -0.015773 -0.009290 -0.000526  0.004315 -0.003473   \n",
       "9109512   0.011480 -0.021530 -0.004341  0.004190  0.044702  0.011483   \n",
       "\n",
       "               497       498       499  \n",
       "17645570  0.011491  0.022782  0.003275  \n",
       "37019651  0.003300 -0.009625 -0.005633  \n",
       "9109512  -0.013307 -0.031249 -0.063539  \n",
       "\n",
       "[3 rows x 500 columns]"
      ]
     },
     "execution_count": 48,
     "metadata": {},
     "output_type": "execute_result"
    }
   ],
   "source": [
    "SQLstr = \"\"\"\n",
    "\n",
    "select p.* from page_vec as p order by page_id asc\n",
    "\"\"\"\n",
    "pages_vector = db.select_statement(SQLstr, location=\"remote\")\n",
    "\n",
    "data_dict = {}\n",
    "for index, row in pages_vector.iterrows():\n",
    "    data_dict[row[0]]=row[1]\n",
    "pages_vector_df = pd.DataFrame.from_dict(data_dict,orient='index')\n",
    "pages_vector_df.head(3)"
   ]
  },
  {
   "cell_type": "code",
   "execution_count": 49,
   "metadata": {
    "collapsed": false
   },
   "outputs": [
    {
     "name": "stdout",
     "output_type": "stream",
     "text": [
      "<class 'pandas.core.frame.DataFrame'>\n",
      "Int64Index: 2270 entries, 17645570 to 33660916\n",
      "Columns: 500 entries, 0 to 499\n",
      "dtypes: float64(500)\n",
      "memory usage: 8.7 MB\n"
     ]
    }
   ],
   "source": [
    "pages_vector_df.info()"
   ]
  },
  {
   "cell_type": "markdown",
   "metadata": {},
   "source": [
    "## Mine: Select category ids corresponding to pages from database"
   ]
  },
  {
   "cell_type": "markdown",
   "metadata": {},
   "source": [
    "This will turn in to y"
   ]
  },
  {
   "cell_type": "code",
   "execution_count": 56,
   "metadata": {
    "collapsed": true
   },
   "outputs": [],
   "source": [
    "SQLstr = \"\"\"\n",
    "\n",
    "select pc.page_id, pc.category_id from page_cate as pc, page_vec as pv where pc.page_id = pv.page_id and pc.category_id =\n",
    "(select min(category_id) from page_cate pc1 where pc.page_id = pc1.page_id) \n",
    "order by pc.page_id asc\n",
    "\"\"\"\n",
    "target_df = db.select_statement(SQLstr, location=\"remote\")\n"
   ]
  },
  {
   "cell_type": "code",
   "execution_count": 57,
   "metadata": {
    "collapsed": false
   },
   "outputs": [
    {
     "data": {
      "text/html": [
       "<div>\n",
       "<table border=\"1\" class=\"dataframe\">\n",
       "  <thead>\n",
       "    <tr style=\"text-align: right;\">\n",
       "      <th></th>\n",
       "      <th>page_id</th>\n",
       "      <th>category_id</th>\n",
       "    </tr>\n",
       "  </thead>\n",
       "  <tbody>\n",
       "    <tr>\n",
       "      <th>0</th>\n",
       "      <td>2443</td>\n",
       "      <td>18726608</td>\n",
       "    </tr>\n",
       "    <tr>\n",
       "      <th>1</th>\n",
       "      <td>2839</td>\n",
       "      <td>18726608</td>\n",
       "    </tr>\n",
       "    <tr>\n",
       "      <th>2</th>\n",
       "      <td>5180</td>\n",
       "      <td>691185</td>\n",
       "    </tr>\n",
       "    <tr>\n",
       "      <th>3</th>\n",
       "      <td>5931</td>\n",
       "      <td>34955640</td>\n",
       "    </tr>\n",
       "    <tr>\n",
       "      <th>4</th>\n",
       "      <td>7089</td>\n",
       "      <td>691015</td>\n",
       "    </tr>\n",
       "  </tbody>\n",
       "</table>\n",
       "</div>"
      ],
      "text/plain": [
       "   page_id  category_id\n",
       "0     2443     18726608\n",
       "1     2839     18726608\n",
       "2     5180       691185\n",
       "3     5931     34955640\n",
       "4     7089       691015"
      ]
     },
     "execution_count": 57,
     "metadata": {},
     "output_type": "execute_result"
    }
   ],
   "source": [
    "target_df.head(5)"
   ]
  },
  {
   "cell_type": "code",
   "execution_count": 58,
   "metadata": {
    "collapsed": false
   },
   "outputs": [
    {
     "name": "stdout",
     "output_type": "stream",
     "text": [
      "<class 'pandas.core.frame.DataFrame'>\n",
      "RangeIndex: 2270 entries, 0 to 2269\n",
      "Data columns (total 2 columns):\n",
      "page_id        2270 non-null int64\n",
      "category_id    2270 non-null int64\n",
      "dtypes: int64(2)\n",
      "memory usage: 35.5 KB\n"
     ]
    }
   ],
   "source": [
    "target_df.info()"
   ]
  },
  {
   "cell_type": "code",
   "execution_count": 60,
   "metadata": {
    "collapsed": true
   },
   "outputs": [],
   "source": [
    "del target_df[\"page_id\"]"
   ]
  },
  {
   "cell_type": "code",
   "execution_count": 61,
   "metadata": {
    "collapsed": false
   },
   "outputs": [
    {
     "data": {
      "text/html": [
       "<div>\n",
       "<table border=\"1\" class=\"dataframe\">\n",
       "  <thead>\n",
       "    <tr style=\"text-align: right;\">\n",
       "      <th></th>\n",
       "      <th>category_id</th>\n",
       "    </tr>\n",
       "  </thead>\n",
       "  <tbody>\n",
       "    <tr>\n",
       "      <th>0</th>\n",
       "      <td>18726608</td>\n",
       "    </tr>\n",
       "    <tr>\n",
       "      <th>1</th>\n",
       "      <td>18726608</td>\n",
       "    </tr>\n",
       "    <tr>\n",
       "      <th>2</th>\n",
       "      <td>691185</td>\n",
       "    </tr>\n",
       "    <tr>\n",
       "      <th>3</th>\n",
       "      <td>34955640</td>\n",
       "    </tr>\n",
       "    <tr>\n",
       "      <th>4</th>\n",
       "      <td>691015</td>\n",
       "    </tr>\n",
       "  </tbody>\n",
       "</table>\n",
       "</div>"
      ],
      "text/plain": [
       "   category_id\n",
       "0     18726608\n",
       "1     18726608\n",
       "2       691185\n",
       "3     34955640\n",
       "4       691015"
      ]
     },
     "execution_count": 61,
     "metadata": {},
     "output_type": "execute_result"
    }
   ],
   "source": [
    "target_df.head()"
   ]
  },
  {
   "cell_type": "markdown",
   "metadata": {},
   "source": [
    "## Refine: Create a data dictionary with training and testing sets"
   ]
  },
  {
   "cell_type": "code",
   "execution_count": 62,
   "metadata": {
    "collapsed": false
   },
   "outputs": [],
   "source": [
    "from sklearn.model_selection import train_test_split\n",
    "X_train, X_test, y_train, y_test = train_test_split(pages_vector_df,target_df, random_state=42)\n",
    "\n",
    "data_dictionary = { 'X' : pages_vector_df, \n",
    "                    'y' : target_df,\n",
    "                    'X_train': X_train,\n",
    "                    'y_train': y_train,\n",
    "                    'X_test' : X_test,\n",
    "                    'y_test': y_test\n",
    "                  }"
   ]
  },
  {
   "cell_type": "code",
   "execution_count": 64,
   "metadata": {
    "collapsed": false
   },
   "outputs": [
    {
     "data": {
      "text/plain": [
       "['X_test', 'X_train', 'y_train', 'y', 'X', 'y_test']"
      ]
     },
     "execution_count": 64,
     "metadata": {},
     "output_type": "execute_result"
    }
   ],
   "source": [
    "data_dictionary.keys()"
   ]
  },
  {
   "cell_type": "markdown",
   "metadata": {},
   "source": [
    "## Model: Fit, Score, and Tune a multi-label classification model"
   ]
  },
  {
   "cell_type": "code",
   "execution_count": 65,
   "metadata": {
    "collapsed": false
   },
   "outputs": [],
   "source": [
    "from sklearn.naive_bayes import GaussianNB"
   ]
  },
  {
   "cell_type": "code",
   "execution_count": 68,
   "metadata": {
    "collapsed": false
   },
   "outputs": [
    {
     "data": {
      "text/plain": [
       "GaussianNB(priors=None)"
      ]
     },
     "execution_count": 68,
     "metadata": {},
     "output_type": "execute_result"
    }
   ],
   "source": [
    "this_naive_calssifier = GaussianNB()\n",
    "this_naive_calssifier.fit(data_dictionary['X_train'],data_dictionary['y_train'])"
   ]
  },
  {
   "cell_type": "code",
   "execution_count": 69,
   "metadata": {
    "collapsed": false
   },
   "outputs": [
    {
     "name": "stdout",
     "output_type": "stream",
     "text": [
      "train: 0.395417156287 test: 0.0845070422535\n"
     ]
    }
   ],
   "source": [
    "train_score = this_naive_calssifier.score(data_dictionary['X_train'],\n",
    "                                          data_dictionary['y_train'])\n",
    "\n",
    "test_score = this_naive_calssifier.score(data_dictionary['X_test'],\n",
    "                                         data_dictionary['y_test'])\n",
    "print(\"train: {} test: {}\".format(train_score, test_score))"
   ]
  },
  {
   "cell_type": "markdown",
   "metadata": {},
   "source": [
    "## Present: Pickle tuned model for later use"
   ]
  },
  {
   "cell_type": "code",
   "execution_count": 70,
   "metadata": {
    "collapsed": false
   },
   "outputs": [
    {
     "data": {
      "text/plain": [
       "['project6_pickled_model.pkl']"
      ]
     },
     "execution_count": 70,
     "metadata": {},
     "output_type": "execute_result"
    }
   ],
   "source": [
    "from sklearn.externals import joblib\n",
    "joblib.dump(this_naive_calssifier, 'project6_pickled_model.pkl') "
   ]
  },
  {
   "cell_type": "code",
   "execution_count": 71,
   "metadata": {
    "collapsed": true
   },
   "outputs": [],
   "source": [
    "this_naive_calssifier = joblib.load('project6_pickled_model.pkl')"
   ]
  },
  {
   "cell_type": "code",
   "execution_count": 72,
   "metadata": {
    "collapsed": false
   },
   "outputs": [
    {
     "data": {
      "text/plain": [
       "0.39541715628672153"
      ]
     },
     "execution_count": 72,
     "metadata": {},
     "output_type": "execute_result"
    }
   ],
   "source": [
    "this_naive_calssifier.score(data_dictionary['X_train'],\n",
    "                                          data_dictionary['y_train'])"
   ]
  }
 ],
 "metadata": {
  "anaconda-cloud": {},
  "kernelspec": {
   "display_name": "Python [conda root]",
   "language": "python",
   "name": "conda-root-py"
  },
  "language_info": {
   "codemirror_mode": {
    "name": "ipython",
    "version": 2
   },
   "file_extension": ".py",
   "mimetype": "text/x-python",
   "name": "python",
   "nbconvert_exporter": "python",
   "pygments_lexer": "ipython2",
   "version": "2.7.12"
  }
 },
 "nbformat": 4,
 "nbformat_minor": 1
}
