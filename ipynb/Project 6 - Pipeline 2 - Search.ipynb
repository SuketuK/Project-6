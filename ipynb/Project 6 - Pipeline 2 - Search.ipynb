{
 "cells": [
  {
   "cell_type": "markdown",
   "metadata": {},
   "source": [
    "# Project 6 - Pipleline 2 - search"
   ]
  },
  {
   "cell_type": "markdown",
   "metadata": {},
   "source": [
    "**Import project libraries**"
   ]
  },
  {
   "cell_type": "code",
   "execution_count": 1,
   "metadata": {
    "collapsed": false
   },
   "outputs": [],
   "source": [
    "from os import chdir; chdir('../lib')\n",
    "import encoding_module as enc\n",
    "import database_module as db       \n",
    "import wiki_module as wiki \n",
    "import pandas as pd"
   ]
  },
  {
   "cell_type": "markdown",
   "metadata": {},
   "source": [
    "## Parse: Encode search as document vector"
   ]
  },
  {
   "cell_type": "code",
   "execution_count": 2,
   "metadata": {
    "collapsed": false
   },
   "outputs": [
    {
     "data": {
      "text/plain": [
       "Pipeline(steps=[('tfidf', TfidfVectorizer(analyzer=u'word', binary=False, decode_error=u'strict',\n",
       "        dtype=<type 'numpy.int64'>, encoding=u'utf-8', input=u'content',\n",
       "        lowercase=True, max_df=1.0, max_features=None, min_df=1,\n",
       "        ngram_range=(1, 1), norm=u'l2', preprocessor=None, smooth_idf=Tru...TruncatedSVD(algorithm='randomized', n_components=500, n_iter=10,\n",
       "       random_state=42, tol=0.0))])"
      ]
     },
     "execution_count": 2,
     "metadata": {},
     "output_type": "execute_result"
    }
   ],
   "source": [
    "from sklearn.externals import joblib\n",
    "transformer = joblib.load('../data/vectorizer.pkl')\n",
    "transformer"
   ]
  },
  {
   "cell_type": "code",
   "execution_count": 6,
   "metadata": {
    "collapsed": false
   },
   "outputs": [
    {
     "data": {
      "text/plain": [
       "array([ 0.03098301,  0.01842208,  0.00764647, -0.03033612, -0.00092849,\n",
       "       -0.008085  ,  0.01656323,  0.00726585, -0.0191783 , -0.03394464])"
      ]
     },
     "execution_count": 6,
     "metadata": {},
     "output_type": "execute_result"
    }
   ],
   "source": [
    "search_term = \"Home Run\"\n",
    "search_vector = enc.get_searchterm_vector(transformer,search_term)\n",
    "search_vector[\"Home Run\"][0][0:10]"
   ]
  },
  {
   "cell_type": "markdown",
   "metadata": {},
   "source": [
    "## Mine: Select document vectors for all pages from database"
   ]
  },
  {
   "cell_type": "code",
   "execution_count": 8,
   "metadata": {
    "collapsed": false
   },
   "outputs": [
    {
     "data": {
      "text/html": [
       "<div>\n",
       "<table border=\"1\" class=\"dataframe\">\n",
       "  <thead>\n",
       "    <tr style=\"text-align: right;\">\n",
       "      <th></th>\n",
       "      <th>0</th>\n",
       "      <th>1</th>\n",
       "      <th>2</th>\n",
       "      <th>3</th>\n",
       "      <th>4</th>\n",
       "      <th>5</th>\n",
       "      <th>6</th>\n",
       "      <th>7</th>\n",
       "      <th>8</th>\n",
       "      <th>9</th>\n",
       "      <th>...</th>\n",
       "      <th>490</th>\n",
       "      <th>491</th>\n",
       "      <th>492</th>\n",
       "      <th>493</th>\n",
       "      <th>494</th>\n",
       "      <th>495</th>\n",
       "      <th>496</th>\n",
       "      <th>497</th>\n",
       "      <th>498</th>\n",
       "      <th>499</th>\n",
       "    </tr>\n",
       "  </thead>\n",
       "  <tbody>\n",
       "    <tr>\n",
       "      <th>17645570</th>\n",
       "      <td>0.039274</td>\n",
       "      <td>0.055023</td>\n",
       "      <td>-0.014005</td>\n",
       "      <td>-0.016520</td>\n",
       "      <td>0.022691</td>\n",
       "      <td>-0.018724</td>\n",
       "      <td>0.002756</td>\n",
       "      <td>0.005556</td>\n",
       "      <td>-0.005737</td>\n",
       "      <td>-0.009030</td>\n",
       "      <td>...</td>\n",
       "      <td>-0.010056</td>\n",
       "      <td>-0.014171</td>\n",
       "      <td>-0.013905</td>\n",
       "      <td>0.003224</td>\n",
       "      <td>0.005246</td>\n",
       "      <td>0.004800</td>\n",
       "      <td>0.032152</td>\n",
       "      <td>0.011491</td>\n",
       "      <td>0.022782</td>\n",
       "      <td>0.003275</td>\n",
       "    </tr>\n",
       "    <tr>\n",
       "      <th>37019651</th>\n",
       "      <td>0.101253</td>\n",
       "      <td>0.161288</td>\n",
       "      <td>-0.224323</td>\n",
       "      <td>0.112926</td>\n",
       "      <td>-0.060645</td>\n",
       "      <td>0.066798</td>\n",
       "      <td>0.023622</td>\n",
       "      <td>0.008715</td>\n",
       "      <td>-0.017338</td>\n",
       "      <td>0.008191</td>\n",
       "      <td>...</td>\n",
       "      <td>-0.001198</td>\n",
       "      <td>-0.016804</td>\n",
       "      <td>-0.015773</td>\n",
       "      <td>-0.009290</td>\n",
       "      <td>-0.000526</td>\n",
       "      <td>0.004315</td>\n",
       "      <td>-0.003473</td>\n",
       "      <td>0.003300</td>\n",
       "      <td>-0.009625</td>\n",
       "      <td>-0.005633</td>\n",
       "    </tr>\n",
       "    <tr>\n",
       "      <th>9109512</th>\n",
       "      <td>0.039232</td>\n",
       "      <td>0.039217</td>\n",
       "      <td>0.008973</td>\n",
       "      <td>-0.047728</td>\n",
       "      <td>-0.015612</td>\n",
       "      <td>0.017161</td>\n",
       "      <td>0.000355</td>\n",
       "      <td>-0.002134</td>\n",
       "      <td>-0.002816</td>\n",
       "      <td>-0.015128</td>\n",
       "      <td>...</td>\n",
       "      <td>0.031067</td>\n",
       "      <td>0.011480</td>\n",
       "      <td>-0.021530</td>\n",
       "      <td>-0.004341</td>\n",
       "      <td>0.004190</td>\n",
       "      <td>0.044702</td>\n",
       "      <td>0.011483</td>\n",
       "      <td>-0.013307</td>\n",
       "      <td>-0.031249</td>\n",
       "      <td>-0.063539</td>\n",
       "    </tr>\n",
       "  </tbody>\n",
       "</table>\n",
       "<p>3 rows × 500 columns</p>\n",
       "</div>"
      ],
      "text/plain": [
       "               0         1         2         3         4         5    \\\n",
       "17645570  0.039274  0.055023 -0.014005 -0.016520  0.022691 -0.018724   \n",
       "37019651  0.101253  0.161288 -0.224323  0.112926 -0.060645  0.066798   \n",
       "9109512   0.039232  0.039217  0.008973 -0.047728 -0.015612  0.017161   \n",
       "\n",
       "               6         7         8         9      ...          490  \\\n",
       "17645570  0.002756  0.005556 -0.005737 -0.009030    ...    -0.010056   \n",
       "37019651  0.023622  0.008715 -0.017338  0.008191    ...    -0.001198   \n",
       "9109512   0.000355 -0.002134 -0.002816 -0.015128    ...     0.031067   \n",
       "\n",
       "               491       492       493       494       495       496  \\\n",
       "17645570 -0.014171 -0.013905  0.003224  0.005246  0.004800  0.032152   \n",
       "37019651 -0.016804 -0.015773 -0.009290 -0.000526  0.004315 -0.003473   \n",
       "9109512   0.011480 -0.021530 -0.004341  0.004190  0.044702  0.011483   \n",
       "\n",
       "               497       498       499  \n",
       "17645570  0.011491  0.022782  0.003275  \n",
       "37019651  0.003300 -0.009625 -0.005633  \n",
       "9109512  -0.013307 -0.031249 -0.063539  \n",
       "\n",
       "[3 rows x 500 columns]"
      ]
     },
     "execution_count": 8,
     "metadata": {},
     "output_type": "execute_result"
    }
   ],
   "source": [
    "SQLstr = \"\"\"\n",
    "\n",
    "select p.* from page_vec as p\n",
    "\"\"\"\n",
    "pages_vector = db.select_statement(SQLstr, location=\"remote\")\n",
    "\n",
    "data_dict = {}\n",
    "for index, row in pages_vector.iterrows():\n",
    "    data_dict[row[0]]=row[1]\n",
    "pages_vector_df = pd.DataFrame.from_dict(data_dict,orient='index')\n",
    "pages_vector_df.head(3)"
   ]
  },
  {
   "cell_type": "code",
   "execution_count": 9,
   "metadata": {
    "collapsed": false
   },
   "outputs": [
    {
     "name": "stdout",
     "output_type": "stream",
     "text": [
      "<class 'pandas.core.frame.DataFrame'>\n",
      "Int64Index: 2270 entries, 17645570 to 33660916\n",
      "Columns: 500 entries, 0 to 499\n",
      "dtypes: float64(500)\n",
      "memory usage: 8.7 MB\n"
     ]
    }
   ],
   "source": [
    "pages_vector_df.info()"
   ]
  },
  {
   "cell_type": "markdown",
   "metadata": {},
   "source": [
    "## Model: Find five most similar documents based on document vectors"
   ]
  },
  {
   "cell_type": "code",
   "execution_count": 10,
   "metadata": {
    "collapsed": false
   },
   "outputs": [
    {
     "data": {
      "text/plain": [
       "array([[-0.02827499],\n",
       "       [-0.00534038],\n",
       "       [ 0.12400059],\n",
       "       ..., \n",
       "       [ 0.0291373 ],\n",
       "       [ 0.03485455],\n",
       "       [ 0.07294949]])"
      ]
     },
     "execution_count": 10,
     "metadata": {},
     "output_type": "execute_result"
    }
   ],
   "source": [
    "from sklearn.metrics.pairwise import cosine_similarity\n",
    "cos_sim = cosine_similarity(pages_vector_df,search_vector.values()[0])\n",
    "cos_sim"
   ]
  },
  {
   "cell_type": "code",
   "execution_count": 11,
   "metadata": {
    "collapsed": true
   },
   "outputs": [],
   "source": [
    "new_data_df = pages_vector_df.copy()"
   ]
  },
  {
   "cell_type": "code",
   "execution_count": 12,
   "metadata": {
    "collapsed": false
   },
   "outputs": [],
   "source": [
    "new_data_df[\"similarity\"] = cos_sim"
   ]
  },
  {
   "cell_type": "code",
   "execution_count": 13,
   "metadata": {
    "collapsed": false
   },
   "outputs": [],
   "source": [
    "new_data_df = new_data_df.sort_values(\"similarity\",ascending=False)"
   ]
  },
  {
   "cell_type": "code",
   "execution_count": 14,
   "metadata": {
    "collapsed": false
   },
   "outputs": [
    {
     "data": {
      "text/html": [
       "<div>\n",
       "<table border=\"1\" class=\"dataframe\">\n",
       "  <thead>\n",
       "    <tr style=\"text-align: right;\">\n",
       "      <th></th>\n",
       "      <th>0</th>\n",
       "      <th>1</th>\n",
       "      <th>2</th>\n",
       "      <th>3</th>\n",
       "      <th>4</th>\n",
       "      <th>5</th>\n",
       "      <th>6</th>\n",
       "      <th>7</th>\n",
       "      <th>8</th>\n",
       "      <th>9</th>\n",
       "      <th>...</th>\n",
       "      <th>491</th>\n",
       "      <th>492</th>\n",
       "      <th>493</th>\n",
       "      <th>494</th>\n",
       "      <th>495</th>\n",
       "      <th>496</th>\n",
       "      <th>497</th>\n",
       "      <th>498</th>\n",
       "      <th>499</th>\n",
       "      <th>similarity</th>\n",
       "    </tr>\n",
       "  </thead>\n",
       "  <tbody>\n",
       "    <tr>\n",
       "      <th>36247003</th>\n",
       "      <td>0.158981</td>\n",
       "      <td>0.161283</td>\n",
       "      <td>0.078061</td>\n",
       "      <td>-0.225417</td>\n",
       "      <td>-0.165157</td>\n",
       "      <td>0.076773</td>\n",
       "      <td>-0.000171</td>\n",
       "      <td>0.044412</td>\n",
       "      <td>-0.062849</td>\n",
       "      <td>-0.238409</td>\n",
       "      <td>...</td>\n",
       "      <td>-0.009450</td>\n",
       "      <td>-0.002838</td>\n",
       "      <td>-0.001129</td>\n",
       "      <td>-0.013229</td>\n",
       "      <td>-0.013163</td>\n",
       "      <td>0.002184</td>\n",
       "      <td>0.010968</td>\n",
       "      <td>0.002264</td>\n",
       "      <td>-0.009748</td>\n",
       "      <td>0.515439</td>\n",
       "    </tr>\n",
       "    <tr>\n",
       "      <th>17146605</th>\n",
       "      <td>0.127424</td>\n",
       "      <td>0.164904</td>\n",
       "      <td>0.056130</td>\n",
       "      <td>-0.316981</td>\n",
       "      <td>-0.233621</td>\n",
       "      <td>0.078091</td>\n",
       "      <td>0.014586</td>\n",
       "      <td>-0.006248</td>\n",
       "      <td>-0.079121</td>\n",
       "      <td>-0.301368</td>\n",
       "      <td>...</td>\n",
       "      <td>0.027325</td>\n",
       "      <td>-0.028411</td>\n",
       "      <td>-0.003188</td>\n",
       "      <td>-0.028936</td>\n",
       "      <td>0.004124</td>\n",
       "      <td>-0.023019</td>\n",
       "      <td>0.030717</td>\n",
       "      <td>0.001723</td>\n",
       "      <td>-0.013152</td>\n",
       "      <td>0.489452</td>\n",
       "    </tr>\n",
       "    <tr>\n",
       "      <th>382550</th>\n",
       "      <td>0.127999</td>\n",
       "      <td>0.107800</td>\n",
       "      <td>0.053678</td>\n",
       "      <td>-0.157338</td>\n",
       "      <td>-0.109987</td>\n",
       "      <td>0.054258</td>\n",
       "      <td>-0.004824</td>\n",
       "      <td>0.056478</td>\n",
       "      <td>-0.028876</td>\n",
       "      <td>-0.152715</td>\n",
       "      <td>...</td>\n",
       "      <td>-0.005752</td>\n",
       "      <td>0.003451</td>\n",
       "      <td>-0.011020</td>\n",
       "      <td>0.007785</td>\n",
       "      <td>0.007460</td>\n",
       "      <td>0.022125</td>\n",
       "      <td>-0.012864</td>\n",
       "      <td>-0.017185</td>\n",
       "      <td>0.005214</td>\n",
       "      <td>0.456632</td>\n",
       "    </tr>\n",
       "    <tr>\n",
       "      <th>230857</th>\n",
       "      <td>0.106604</td>\n",
       "      <td>0.197061</td>\n",
       "      <td>0.005121</td>\n",
       "      <td>-0.109841</td>\n",
       "      <td>0.207473</td>\n",
       "      <td>-0.287373</td>\n",
       "      <td>0.394493</td>\n",
       "      <td>0.038654</td>\n",
       "      <td>-0.265874</td>\n",
       "      <td>0.033932</td>\n",
       "      <td>...</td>\n",
       "      <td>0.014827</td>\n",
       "      <td>-0.019672</td>\n",
       "      <td>0.000235</td>\n",
       "      <td>-0.023167</td>\n",
       "      <td>-0.009612</td>\n",
       "      <td>-0.010821</td>\n",
       "      <td>0.005976</td>\n",
       "      <td>0.001819</td>\n",
       "      <td>-0.009158</td>\n",
       "      <td>0.417543</td>\n",
       "    </tr>\n",
       "    <tr>\n",
       "      <th>1436515</th>\n",
       "      <td>0.135025</td>\n",
       "      <td>0.112275</td>\n",
       "      <td>0.053666</td>\n",
       "      <td>-0.179585</td>\n",
       "      <td>-0.129930</td>\n",
       "      <td>0.059839</td>\n",
       "      <td>-0.005059</td>\n",
       "      <td>0.050886</td>\n",
       "      <td>-0.028924</td>\n",
       "      <td>-0.153339</td>\n",
       "      <td>...</td>\n",
       "      <td>-0.017405</td>\n",
       "      <td>0.011686</td>\n",
       "      <td>-0.019866</td>\n",
       "      <td>0.013995</td>\n",
       "      <td>0.009604</td>\n",
       "      <td>0.033185</td>\n",
       "      <td>-0.015584</td>\n",
       "      <td>-0.027916</td>\n",
       "      <td>0.006190</td>\n",
       "      <td>0.404081</td>\n",
       "    </tr>\n",
       "  </tbody>\n",
       "</table>\n",
       "<p>5 rows × 501 columns</p>\n",
       "</div>"
      ],
      "text/plain": [
       "                 0         1         2         3         4         5  \\\n",
       "36247003  0.158981  0.161283  0.078061 -0.225417 -0.165157  0.076773   \n",
       "17146605  0.127424  0.164904  0.056130 -0.316981 -0.233621  0.078091   \n",
       "382550    0.127999  0.107800  0.053678 -0.157338 -0.109987  0.054258   \n",
       "230857    0.106604  0.197061  0.005121 -0.109841  0.207473 -0.287373   \n",
       "1436515   0.135025  0.112275  0.053666 -0.179585 -0.129930  0.059839   \n",
       "\n",
       "                 6         7         8         9     ...           491  \\\n",
       "36247003 -0.000171  0.044412 -0.062849 -0.238409     ...     -0.009450   \n",
       "17146605  0.014586 -0.006248 -0.079121 -0.301368     ...      0.027325   \n",
       "382550   -0.004824  0.056478 -0.028876 -0.152715     ...     -0.005752   \n",
       "230857    0.394493  0.038654 -0.265874  0.033932     ...      0.014827   \n",
       "1436515  -0.005059  0.050886 -0.028924 -0.153339     ...     -0.017405   \n",
       "\n",
       "               492       493       494       495       496       497  \\\n",
       "36247003 -0.002838 -0.001129 -0.013229 -0.013163  0.002184  0.010968   \n",
       "17146605 -0.028411 -0.003188 -0.028936  0.004124 -0.023019  0.030717   \n",
       "382550    0.003451 -0.011020  0.007785  0.007460  0.022125 -0.012864   \n",
       "230857   -0.019672  0.000235 -0.023167 -0.009612 -0.010821  0.005976   \n",
       "1436515   0.011686 -0.019866  0.013995  0.009604  0.033185 -0.015584   \n",
       "\n",
       "               498       499  similarity  \n",
       "36247003  0.002264 -0.009748    0.515439  \n",
       "17146605  0.001723 -0.013152    0.489452  \n",
       "382550   -0.017185  0.005214    0.456632  \n",
       "230857    0.001819 -0.009158    0.417543  \n",
       "1436515  -0.027916  0.006190    0.404081  \n",
       "\n",
       "[5 rows x 501 columns]"
      ]
     },
     "execution_count": 14,
     "metadata": {},
     "output_type": "execute_result"
    }
   ],
   "source": [
    "new_data_df.head()"
   ]
  },
  {
   "cell_type": "markdown",
   "metadata": {},
   "source": [
    "## Mine: Retrieve text for the five most similar documents"
   ]
  },
  {
   "cell_type": "code",
   "execution_count": 15,
   "metadata": {
    "collapsed": false
   },
   "outputs": [],
   "source": [
    "SQLstr = \"\"\"\n",
    "\n",
    "select p.page_id, p.title,p.page from page as p where page_id in (8252994,17379274,2135232,889576,4168063)\n",
    "\"\"\"\n",
    "sim_pages_df = db.select_statement(SQLstr, location=\"remote\")"
   ]
  },
  {
   "cell_type": "markdown",
   "metadata": {},
   "source": [
    "## Identify 5 nearest vectors "
   ]
  },
  {
   "cell_type": "code",
   "execution_count": 16,
   "metadata": {
    "collapsed": false
   },
   "outputs": [
    {
     "data": {
      "text/html": [
       "<div>\n",
       "<table border=\"1\" class=\"dataframe\">\n",
       "  <thead>\n",
       "    <tr style=\"text-align: right;\">\n",
       "      <th></th>\n",
       "      <th>page_id</th>\n",
       "      <th>title</th>\n",
       "      <th>page</th>\n",
       "    </tr>\n",
       "  </thead>\n",
       "  <tbody>\n",
       "    <tr>\n",
       "      <th>0</th>\n",
       "      <td>889576</td>\n",
       "      <td>Curb weight</td>\n",
       "      <td>Curb weight (US English) or kerb weight (UK En...</td>\n",
       "    </tr>\n",
       "    <tr>\n",
       "      <th>1</th>\n",
       "      <td>8252994</td>\n",
       "      <td>Vehicle infrastructure integration</td>\n",
       "      <td>Vehicle Infrastructure Integration (VII) is an...</td>\n",
       "    </tr>\n",
       "    <tr>\n",
       "      <th>2</th>\n",
       "      <td>2135232</td>\n",
       "      <td>List of sports dynasties</td>\n",
       "      <td>A sports dynasty is a team or individual that ...</td>\n",
       "    </tr>\n",
       "    <tr>\n",
       "      <th>3</th>\n",
       "      <td>17379274</td>\n",
       "      <td>National championship</td>\n",
       "      <td>A national championship(s) is the top achievem...</td>\n",
       "    </tr>\n",
       "    <tr>\n",
       "      <th>4</th>\n",
       "      <td>4168063</td>\n",
       "      <td>Wilks Coefficient</td>\n",
       "      <td>The Wilks Coefficient or Wilks Formula is a co...</td>\n",
       "    </tr>\n",
       "  </tbody>\n",
       "</table>\n",
       "</div>"
      ],
      "text/plain": [
       "    page_id                               title  \\\n",
       "0    889576                         Curb weight   \n",
       "1   8252994  Vehicle infrastructure integration   \n",
       "2   2135232            List of sports dynasties   \n",
       "3  17379274               National championship   \n",
       "4   4168063                   Wilks Coefficient   \n",
       "\n",
       "                                                page  \n",
       "0  Curb weight (US English) or kerb weight (UK En...  \n",
       "1  Vehicle Infrastructure Integration (VII) is an...  \n",
       "2  A sports dynasty is a team or individual that ...  \n",
       "3  A national championship(s) is the top achievem...  \n",
       "4  The Wilks Coefficient or Wilks Formula is a co...  "
      ]
     },
     "execution_count": 16,
     "metadata": {},
     "output_type": "execute_result"
    }
   ],
   "source": [
    "sim_pages_df"
   ]
  },
  {
   "cell_type": "markdown",
   "metadata": {
    "collapsed": true
   },
   "source": [
    "**Try Nearest Neighbors**"
   ]
  },
  {
   "cell_type": "code",
   "execution_count": 22,
   "metadata": {
    "collapsed": true
   },
   "outputs": [],
   "source": [
    "from sklearn.neighbors import NearestNeighbors"
   ]
  },
  {
   "cell_type": "code",
   "execution_count": 23,
   "metadata": {
    "collapsed": true
   },
   "outputs": [],
   "source": [
    "this_NN = NearestNeighbors()"
   ]
  },
  {
   "cell_type": "code",
   "execution_count": 24,
   "metadata": {
    "collapsed": false
   },
   "outputs": [
    {
     "data": {
      "text/plain": [
       "NearestNeighbors(algorithm='auto', leaf_size=30, metric='minkowski',\n",
       "         metric_params=None, n_jobs=1, n_neighbors=5, p=2, radius=1.0)"
      ]
     },
     "execution_count": 24,
     "metadata": {},
     "output_type": "execute_result"
    }
   ],
   "source": [
    "this_NN.fit(pages_vector_df)"
   ]
  },
  {
   "cell_type": "code",
   "execution_count": 25,
   "metadata": {
    "collapsed": false
   },
   "outputs": [
    {
     "data": {
      "text/plain": [
       "(array([[ 0.44588461,  0.50597456,  0.50796105,  0.51891308,  0.52207081]]),\n",
       " array([[1693,  712,  373, 1165,  879]], dtype=int64))"
      ]
     },
     "execution_count": 25,
     "metadata": {},
     "output_type": "execute_result"
    }
   ],
   "source": [
    "this_NN.kneighbors(search_vector.values()[0])"
   ]
  },
  {
   "cell_type": "code",
   "execution_count": null,
   "metadata": {
    "collapsed": true
   },
   "outputs": [],
   "source": []
  }
 ],
 "metadata": {
  "anaconda-cloud": {},
  "kernelspec": {
   "display_name": "Python [conda root]",
   "language": "python",
   "name": "conda-root-py"
  },
  "language_info": {
   "codemirror_mode": {
    "name": "ipython",
    "version": 2
   },
   "file_extension": ".py",
   "mimetype": "text/x-python",
   "name": "python",
   "nbconvert_exporter": "python",
   "pygments_lexer": "ipython2",
   "version": "2.7.12"
  }
 },
 "nbformat": 4,
 "nbformat_minor": 1
}
